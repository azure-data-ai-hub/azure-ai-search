{
 "cells": [
  {
   "cell_type": "code",
   "execution_count": 5,
   "metadata": {},
   "outputs": [
    {
     "name": "stdout",
     "output_type": "stream",
     "text": [
      "Collecting azure-search-documents\n",
      "  Downloading azure_search_documents-11.5.2-py3-none-any.whl.metadata (23 kB)\n",
      "Requirement already satisfied: azure-core>=1.28.0 in c:\\users\\rmaganti\\appdata\\local\\programs\\python\\python312\\lib\\site-packages (from azure-search-documents) (1.32.0)\n",
      "Requirement already satisfied: azure-common>=1.1 in c:\\users\\rmaganti\\appdata\\local\\programs\\python\\python312\\lib\\site-packages (from azure-search-documents) (1.1.28)\n",
      "Requirement already satisfied: isodate>=0.6.0 in c:\\users\\rmaganti\\appdata\\local\\programs\\python\\python312\\lib\\site-packages (from azure-search-documents) (0.6.1)\n",
      "Requirement already satisfied: typing-extensions>=4.6.0 in c:\\users\\rmaganti\\appdata\\local\\programs\\python\\python312\\lib\\site-packages (from azure-search-documents) (4.12.2)\n",
      "Requirement already satisfied: requests>=2.21.0 in c:\\users\\rmaganti\\appdata\\local\\programs\\python\\python312\\lib\\site-packages (from azure-core>=1.28.0->azure-search-documents) (2.32.3)\n",
      "Requirement already satisfied: six>=1.11.0 in c:\\users\\rmaganti\\appdata\\local\\programs\\python\\python312\\lib\\site-packages (from azure-core>=1.28.0->azure-search-documents) (1.16.0)\n",
      "Requirement already satisfied: charset-normalizer<4,>=2 in c:\\users\\rmaganti\\appdata\\local\\programs\\python\\python312\\lib\\site-packages (from requests>=2.21.0->azure-core>=1.28.0->azure-search-documents) (3.3.2)\n",
      "Requirement already satisfied: idna<4,>=2.5 in c:\\users\\rmaganti\\appdata\\local\\programs\\python\\python312\\lib\\site-packages (from requests>=2.21.0->azure-core>=1.28.0->azure-search-documents) (3.10)\n",
      "Requirement already satisfied: urllib3<3,>=1.21.1 in c:\\users\\rmaganti\\appdata\\local\\programs\\python\\python312\\lib\\site-packages (from requests>=2.21.0->azure-core>=1.28.0->azure-search-documents) (2.2.3)\n",
      "Requirement already satisfied: certifi>=2017.4.17 in c:\\users\\rmaganti\\appdata\\local\\programs\\python\\python312\\lib\\site-packages (from requests>=2.21.0->azure-core>=1.28.0->azure-search-documents) (2024.8.30)\n",
      "Downloading azure_search_documents-11.5.2-py3-none-any.whl (298 kB)\n",
      "Installing collected packages: azure-search-documents\n",
      "Successfully installed azure-search-documents-11.5.2\n"
     ]
    }
   ],
   "source": [
    "\n",
    "! pip install azure-search-documents"
   ]
  },
  {
   "cell_type": "code",
   "execution_count": null,
   "metadata": {},
   "outputs": [
    {
     "name": "stdout",
     "output_type": "stream",
     "text": [
      "Field 'title3' added to the index 'aoaipilotrmindex' with search analyzer.\n",
      "Populated 'title3' with existing 'title' data.\n"
     ]
    }
   ],
   "source": [
    "from azure.search.documents.indexes import SearchIndexClient\n",
    "from azure.search.documents.indexes.models import (\n",
    "    SearchIndex,\n",
    "    SearchableField,\n",
    "    SearchFieldDataType\n",
    ")\n",
    "from azure.search.documents import SearchClient\n",
    "from azure.core.credentials import AzureKeyCredential\n",
    "import os\n",
    "\n",
    "# Configuration\n",
    "endpoint = os.getenv(\"SEARCH_END_POINT\")\n",
    "admin_key = os.getenv(\"SEARCH_ADMIN_KEY\")  # Replace with your environment variable setup\n",
    "index_name = os.getenv(\"SEARCH_INDEX_NAME\")\n",
    "\n",
    "# Initialize the SearchIndexClient\n",
    "index_client = SearchIndexClient(\n",
    "    endpoint=endpoint,\n",
    "    credential=AzureKeyCredential(admin_key)\n",
    ")\n",
    "\n",
    "# Retrieve the existing index\n",
    "index = index_client.get_index(index_name)\n",
    "\n",
    "# Define the new searchable field with a search analyzer\n",
    "new_field = SearchableField(\n",
    "    name=\"title3\",\n",
    "    type=SearchFieldDataType.String,\n",
    "    analyzer=\"en.lucene\",  # Specify the desired search analyzer\n",
    "    searchable=True,\n",
    "    filterable=True,\n",
    "    sortable=True,\n",
    "    facetable=True\n",
    ")\n",
    "\n",
    "# Check if the new field already exists to avoid duplication\n",
    "if any(field.name == new_field.name for field in index.fields):\n",
    "    print(f\"Field '{new_field.name}' already exists in the index.\")\n",
    "else:\n",
    "    # Add the new field to the index\n",
    "    index.fields.append(new_field)\n",
    "\n",
    "    # Update the index\n",
    "    index_client.create_or_update_index(index)\n",
    "    print(f\"Field '{new_field.name}' added to the index '{index_name}' with search analyzer.\")\n",
    "\n",
    "    # Initialize the SearchClient for document operations\n",
    "    search_client = SearchClient(\n",
    "        endpoint=endpoint,\n",
    "        index_name=index_name,\n",
    "        credential=AzureKeyCredential(admin_key)\n",
    "    )\n",
    "\n",
    "    # Retrieve all documents\n",
    "    results = search_client.search(search_text=\"*\", include_total_count=True)\n",
    "    \n",
    "    # Prepare updated documents\n",
    "    updated_documents = []\n",
    "    for doc in results:\n",
    "        doc['title3'] = doc.get('title')\n",
    "        updated_documents.append(doc)\n",
    "\n",
    "    # Upload updated documents\n",
    "    search_client.merge_or_upload_documents(documents=updated_documents)\n",
    "    print(\"Populated 'title3' with existing 'title' data.\")"
   ]
  }
 ],
 "metadata": {
  "kernelspec": {
   "display_name": "Python 3",
   "language": "python",
   "name": "python3"
  },
  "language_info": {
   "codemirror_mode": {
    "name": "ipython",
    "version": 3
   },
   "file_extension": ".py",
   "mimetype": "text/x-python",
   "name": "python",
   "nbconvert_exporter": "python",
   "pygments_lexer": "ipython3",
   "version": "3.12.7"
  }
 },
 "nbformat": 4,
 "nbformat_minor": 2
}
